{
  "nbformat": 4,
  "nbformat_minor": 0,
  "metadata": {
    "colab": {
      "provenance": [],
      "authorship_tag": "ABX9TyPh0z4vpK0K3MKQClaZ4rzw",
      "include_colab_link": true
    },
    "kernelspec": {
      "name": "python3",
      "display_name": "Python 3"
    },
    "language_info": {
      "name": "python"
    }
  },
  "cells": [
    {
      "cell_type": "markdown",
      "metadata": {
        "id": "view-in-github",
        "colab_type": "text"
      },
      "source": [
        "<a href=\"https://colab.research.google.com/github/nandhini1989/Python/blob/main/tipCalculator.ipynb\" target=\"_parent\"><img src=\"https://colab.research.google.com/assets/colab-badge.svg\" alt=\"Open In Colab\"/></a>"
      ]
    },
    {
      "cell_type": "code",
      "execution_count": 1,
      "metadata": {
        "id": "DaXRxdQu4_L0",
        "colab": {
          "base_uri": "https://localhost:8080/"
        },
        "outputId": "27dfd96f-f554-4c1c-ee55-8ff271f302a4"
      },
      "outputs": [
        {
          "output_type": "stream",
          "name": "stdout",
          "text": [
            "Welcome to the tip calculator!\n",
            "What was the total bill? $1550\n",
            "How much tip would you like to give? 10, 12, or 15? 12\n",
            "How many people to split the bill?9\n",
            "Each person should pay: $192.89\n"
          ]
        }
      ],
      "source": [
        "#If the bill was $150.00, split between 5 people, with 12% tip.\n",
        "#Each person should pay (150.00 / 5) * 1.12 = 33.6\n",
        "#Round the result to 2 decimal places.\n",
        "print(\"Welcome to the tip calculator!\")\n",
        "bill = float(input(\"What was the total bill? $\"))\n",
        "tip = int(input(\"How much tip would you like to give? 10, 12, or 15? \"))\n",
        "people = int(input(\"How many people to split the bill?\"))\n",
        "\n",
        "tip_as_percent = tip / 100\n",
        "total_tip_amount = bill * tip_as_percent\n",
        "total_bill = bill + total_tip_amount\n",
        "bill_per_person = total_bill / people\n",
        "final_amount = round(bill_per_person, 2)\n",
        "\n",
        "\n",
        "\n",
        "print(f\"Each person should pay: ${final_amount}\")\n"
      ]
    }
  ]
}