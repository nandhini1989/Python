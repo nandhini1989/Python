{
  "nbformat": 4,
  "nbformat_minor": 0,
  "metadata": {
    "colab": {
      "provenance": [],
      "authorship_tag": "ABX9TyNRTeXsa7JR4YjBGD2Id2vd",
      "include_colab_link": true
    },
    "kernelspec": {
      "name": "python3",
      "display_name": "Python 3"
    },
    "language_info": {
      "name": "python"
    }
  },
  "cells": [
    {
      "cell_type": "markdown",
      "metadata": {
        "id": "view-in-github",
        "colab_type": "text"
      },
      "source": [
        "<a href=\"https://colab.research.google.com/github/nandhini1989/Python/blob/main/rock_Paper_scissors.ipynb\" target=\"_parent\"><img src=\"https://colab.research.google.com/assets/colab-badge.svg\" alt=\"Open In Colab\"/></a>"
      ]
    },
    {
      "cell_type": "code",
      "execution_count": null,
      "metadata": {
        "id": "GUDHOFPeU9Ty"
      },
      "outputs": [],
      "source": [
        "rock = '''\n",
        "    _______\n",
        "---'   ____)\n",
        "      (_____)\n",
        "      (_____)\n",
        "      (____)\n",
        "---.__(___)\n",
        "'''\n",
        "\n",
        "paper = '''\n",
        "    _______\n",
        "---'   ____)____\n",
        "          ______)\n",
        "          _______)\n",
        "         _______)\n",
        "---.__________)\n",
        "'''\n",
        "\n",
        "scissors = '''\n",
        "    _______\n",
        "---'   ____)____\n",
        "          ______)\n",
        "       __________)\n",
        "      (____)\n",
        "---.__(___)\n",
        "'''\n",
        "\n",
        "import random\n",
        "\n",
        "choice= int(input(\"Which number do you want to enter 0,1 or 2.0 for Rcok,1 for paper and 2 for scissor\\n\"))\n",
        "if choice==0:\n",
        "  print(rock)\n",
        "elif choice==1:\n",
        "  print(paper)\n",
        "elif choice==2:\n",
        "  print(scissors)\n",
        "else:\n",
        "  print(\"Enter a valid number\")\n",
        "number= random.randint(0,2)\n",
        "print(\"computer chose\")\n",
        "if number==0:\n",
        "  print(rock)\n",
        "elif number==1:\n",
        "  print(paper)\n",
        "else:\n",
        "  print(scissors)\n",
        "if choice == number:\n",
        "  print(\"Game is Draw.Go for second round\")\n",
        "elif choice ==0 and number ==1:\n",
        "  print(\"you Lose\")\n",
        "elif choice == 0 and number==2:\n",
        "  print(\"You won\")\n",
        "elif choice==1 and number ==0:\n",
        "  print(\"You Won\")\n",
        "elif choice==1 and number==2:\n",
        "  print(\"Lose\")\n",
        "elif choice==2 and number==0:\n",
        "  print(\"Lose\")\n",
        "elif choice==2 and number==1:\n",
        "  print(\"Win\")\n"
      ]
    }
  ]
}