{
  "nbformat": 4,
  "nbformat_minor": 0,
  "metadata": {
    "colab": {
      "provenance": [],
      "authorship_tag": "ABX9TyPYOvFhA3t3wu76oqpum7TX",
      "include_colab_link": true
    },
    "kernelspec": {
      "name": "python3",
      "display_name": "Python 3"
    },
    "language_info": {
      "name": "python"
    }
  },
  "cells": [
    {
      "cell_type": "markdown",
      "metadata": {
        "id": "view-in-github",
        "colab_type": "text"
      },
      "source": [
        "<a href=\"https://colab.research.google.com/github/nandhini1989/Python/blob/main/If_else_practice.ipynb\" target=\"_parent\"><img src=\"https://colab.research.google.com/assets/colab-badge.svg\" alt=\"Open In Colab\"/></a>"
      ]
    },
    {
      "cell_type": "code",
      "execution_count": null,
      "metadata": {
        "id": "GUDHOFPeU9Ty"
      },
      "outputs": [],
      "source": [
        "print(\"Welcome to the rollercoaster!\")\n",
        "height = int(input(\"What is your height in cm? \"))\n",
        "age=int(input(\"what is your age?\"))\n",
        "if height >= 120:\n",
        "  print(\"you czn ride a RC\")\n",
        "  if age == 18:\n",
        "    print(\"you need to $7\")\n",
        "  elif age>12:\n",
        "      print(\"you pay $5\")\n",
        "  else:\n",
        "    print(\"you need to pay $12\")\n",
        "else:\n",
        "    print(\"you have to grow to ride a RC\")"
      ]
    }
  ]
}